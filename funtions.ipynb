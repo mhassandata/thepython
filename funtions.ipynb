{
  "cells": [
    {
      "cell_type": "markdown",
      "id": "fac56857",
      "metadata": {
        "id": "fac56857"
      },
      "source": [
        "# Functions\n",
        "   -Buit in\n",
        "   \n",
        "   -User defined"
      ]
    },
    {
      "cell_type": "code",
      "execution_count": 2,
      "id": "703d5e56",
      "metadata": {
        "id": "703d5e56",
        "outputId": "ed64ae6e-e862-480f-b9db-81669b35d546",
        "colab": {
          "base_uri": "https://localhost:8080/"
        }
      },
      "outputs": [
        {
          "output_type": "stream",
          "name": "stdout",
          "text": [
            "Hello\n"
          ]
        }
      ],
      "source": [
        "print(\"Hello\")"
      ]
    },
    {
      "cell_type": "code",
      "execution_count": 3,
      "id": "f8c76000",
      "metadata": {
        "id": "f8c76000",
        "outputId": "11c59ce7-7479-44a9-af33-9e74ffaefe86",
        "colab": {
          "base_uri": "https://localhost:8080/"
        }
      },
      "outputs": [
        {
          "output_type": "execute_result",
          "data": {
            "text/plain": [
              "5"
            ]
          },
          "metadata": {},
          "execution_count": 3
        }
      ],
      "source": [
        "len(\"Hello\")"
      ]
    },
    {
      "cell_type": "raw",
      "id": "f1d8518b",
      "metadata": {
        "id": "f1d8518b"
      },
      "source": [
        "What is a function?\n",
        "  Advantage : code reuseablity\n",
        "              \n",
        "              code simplicity/readablity\n",
        "              bug resolving   "
      ]
    },
    {
      "cell_type": "code",
      "execution_count": 4,
      "id": "68396e2b",
      "metadata": {
        "id": "68396e2b"
      },
      "outputs": [],
      "source": [
        "#Function define\n",
        "# Function call\n",
        "# Result"
      ]
    },
    {
      "cell_type": "markdown",
      "id": "79b1ba36",
      "metadata": {
        "id": "79b1ba36"
      },
      "source": [
        "##### Defining a function"
      ]
    },
    {
      "cell_type": "code",
      "execution_count": 5,
      "id": "29c187a7",
      "metadata": {
        "id": "29c187a7"
      },
      "outputs": [],
      "source": [
        "def function_name():\n",
        "    #     function_body\n",
        "    #     function_body\n",
        "    #     function_body\n",
        "    #     function_body\n",
        "    #     function_body\n",
        "    #     function_body\n",
        "    print(\"I am body of my function\")"
      ]
    },
    {
      "cell_type": "markdown",
      "id": "0529589f",
      "metadata": {
        "id": "0529589f"
      },
      "source": [
        "#### Calling a function\n"
      ]
    },
    {
      "cell_type": "code",
      "execution_count": 6,
      "id": "fc774d04",
      "metadata": {
        "id": "fc774d04",
        "outputId": "6ada8b95-ace6-451b-938b-a88a9ebc5f7a",
        "colab": {
          "base_uri": "https://localhost:8080/"
        }
      },
      "outputs": [
        {
          "output_type": "stream",
          "name": "stdout",
          "text": [
            "I am body of my function\n"
          ]
        }
      ],
      "source": [
        "function_name()"
      ]
    },
    {
      "cell_type": "code",
      "execution_count": 7,
      "id": "8c8d45b2",
      "metadata": {
        "id": "8c8d45b2",
        "outputId": "dd7cd3bd-7bdb-4106-e180-349ae5a350fd",
        "colab": {
          "base_uri": "https://localhost:8080/"
        }
      },
      "outputs": [
        {
          "output_type": "stream",
          "name": "stdout",
          "text": [
            "I am body of my function\n",
            "I am body of my function\n",
            "I am body of my function\n",
            "I am body of my function\n",
            "I am body of my function\n",
            "I am body of my function\n",
            "I am body of my function\n"
          ]
        }
      ],
      "source": [
        "function_name()\n",
        "function_name()\n",
        "function_name()\n",
        "function_name()\n",
        "function_name()\n",
        "function_name()\n",
        "function_name()"
      ]
    },
    {
      "cell_type": "code",
      "execution_count": 8,
      "id": "0f790641",
      "metadata": {
        "id": "0f790641"
      },
      "outputs": [],
      "source": [
        "# Parameterless function\n",
        "\n",
        "def greetUser():\n",
        "    print(\"Welcome\")"
      ]
    },
    {
      "cell_type": "code",
      "execution_count": 9,
      "id": "b2ba7511",
      "metadata": {
        "id": "b2ba7511",
        "outputId": "03abbcb3-962d-432d-f7cd-9596b80fd329",
        "colab": {
          "base_uri": "https://localhost:8080/"
        }
      },
      "outputs": [
        {
          "output_type": "stream",
          "name": "stdout",
          "text": [
            "Welcome\n"
          ]
        }
      ],
      "source": [
        "greetUser()"
      ]
    },
    {
      "cell_type": "markdown",
      "id": "4babcff1",
      "metadata": {
        "id": "4babcff1"
      },
      "source": [
        "Parameters & Arguments\n",
        "   - Parameters are expexted values given from user\n",
        "   - Arguments are values that user supplies to function"
      ]
    },
    {
      "cell_type": "code",
      "execution_count": 10,
      "id": "01146efb",
      "metadata": {
        "id": "01146efb"
      },
      "outputs": [],
      "source": [
        "# parametrized function\n",
        "def greetUser(userName):#parameter\n",
        "    name = userName.upper()\n",
        "    print(f\"Welcome {name}\")"
      ]
    },
    {
      "cell_type": "code",
      "execution_count": 15,
      "id": "2dac29f8",
      "metadata": {
        "id": "2dac29f8",
        "outputId": "6c94ae07-083e-41d1-91ad-b531a844e536",
        "colab": {
          "base_uri": "https://localhost:8080/",
          "height": 165
        }
      },
      "outputs": [
        {
          "output_type": "error",
          "ename": "TypeError",
          "evalue": "ignored",
          "traceback": [
            "\u001b[0;31m---------------------------------------------------------------------------\u001b[0m",
            "\u001b[0;31mTypeError\u001b[0m                                 Traceback (most recent call last)",
            "\u001b[0;32m<ipython-input-15-69567065efe0>\u001b[0m in \u001b[0;36m<module>\u001b[0;34m\u001b[0m\n\u001b[0;32m----> 1\u001b[0;31m \u001b[0mgreetUser\u001b[0m\u001b[0;34m(\u001b[0m\u001b[0;34m)\u001b[0m\u001b[0;34m\u001b[0m\u001b[0;34m\u001b[0m\u001b[0m\n\u001b[0m",
            "\u001b[0;31mTypeError\u001b[0m: greetUser() missing 1 required positional argument: 'userName'"
          ]
        }
      ],
      "source": [
        "greetUser()"
      ]
    },
    {
      "cell_type": "code",
      "execution_count": 16,
      "id": "96130000",
      "metadata": {
        "id": "96130000",
        "outputId": "6046bdfe-6973-4b64-a7fe-798fbe068ed2",
        "colab": {
          "base_uri": "https://localhost:8080/"
        }
      },
      "outputs": [
        {
          "output_type": "stream",
          "name": "stdout",
          "text": [
            "Welcome MR. BEAN\n"
          ]
        }
      ],
      "source": [
        "greetUser(\"Mr. Bean\")#Argument"
      ]
    },
    {
      "cell_type": "code",
      "execution_count": 17,
      "id": "6aaed164",
      "metadata": {
        "id": "6aaed164"
      },
      "outputs": [],
      "source": [
        "\n",
        "def bio_data(name, age, gender,nationality, email, contact):\n",
        "    print(f\"\"\"\n",
        "            BIO DATA\n",
        "            ________\n",
        "            Name of Student: {name}\n",
        "            Age of Students:{age}\n",
        "            Gender : {gender}\n",
        "            Nationality: {nationality}\n",
        "            Email: {email}\n",
        "            Contact: {contact}\n",
        "            \"\"\")"
      ]
    },
    {
      "cell_type": "code",
      "execution_count": 18,
      "id": "556a19f3",
      "metadata": {
        "id": "556a19f3",
        "outputId": "17d030f2-d87b-4e8f-a079-c6feae2ecee7",
        "colab": {
          "base_uri": "https://localhost:8080/"
        }
      },
      "outputs": [
        {
          "output_type": "stream",
          "name": "stdout",
          "text": [
            "\n",
            "            BIO DATA\n",
            "            ________\n",
            "            Name of Student: Ali\n",
            "            Age of Students:23\n",
            "            Gender : M\n",
            "            Nationality: Pak\n",
            "            Email: abc.com\n",
            "            Contact: 123456\n",
            "            \n"
          ]
        }
      ],
      "source": [
        "#positional arguments: are assigned according to positional in the parameters\n",
        "bio_data(\"Ali\",23, \"M\", 'Pak', 'abc.com', \"123456\")"
      ]
    },
    {
      "cell_type": "code",
      "execution_count": 19,
      "id": "ed416e78",
      "metadata": {
        "id": "ed416e78",
        "outputId": "168ceb37-77f3-4606-b696-b07062a30d6a",
        "colab": {
          "base_uri": "https://localhost:8080/"
        }
      },
      "outputs": [
        {
          "output_type": "stream",
          "name": "stdout",
          "text": [
            "\n",
            "            BIO DATA\n",
            "            ________\n",
            "            Name of Student: Hassan\n",
            "            Age of Students:23\n",
            "            Gender : M\n",
            "            Nationality: Pak\n",
            "            Email: abc.com\n",
            "            Contact: 123456\n",
            "            \n"
          ]
        }
      ],
      "source": [
        "bio_data(\"Hassan\",23, \"M\", 'Pak', 'abc.com', \"123456\")"
      ]
    },
    {
      "cell_type": "code",
      "execution_count": 20,
      "id": "92adff89",
      "metadata": {
        "id": "92adff89"
      },
      "outputs": [],
      "source": [
        "def fullName(fname,lname,age):\n",
        "    print(f\"{fname} {lname}\")\n",
        "    print(f\"age is {age}\")"
      ]
    },
    {
      "cell_type": "code",
      "execution_count": 21,
      "id": "d0797691",
      "metadata": {
        "id": "d0797691",
        "outputId": "d6f6d697-e5fb-4a48-c489-e398aded0949",
        "colab": {
          "base_uri": "https://localhost:8080/"
        }
      },
      "outputs": [
        {
          "output_type": "stream",
          "name": "stdout",
          "text": [
            "Hussain 23\n",
            "age is Nasir\n"
          ]
        }
      ],
      "source": [
        "fullName(\"Hussain\", 23, \"Nasir\")"
      ]
    },
    {
      "cell_type": "code",
      "execution_count": 22,
      "id": "687f05d2",
      "metadata": {
        "id": "687f05d2",
        "outputId": "72e77ec1-944a-4454-ea3e-743446b4bdfe",
        "colab": {
          "base_uri": "https://localhost:8080/"
        }
      },
      "outputs": [
        {
          "output_type": "stream",
          "name": "stdout",
          "text": [
            "Nasir hussain\n",
            "age is 34\n"
          ]
        }
      ],
      "source": [
        "#Keywords Arguments\n",
        "fullName(age=34,lname=\"hussain\",fname=\"Nasir\")"
      ]
    },
    {
      "cell_type": "code",
      "execution_count": 23,
      "id": "96be86f3",
      "metadata": {
        "id": "96be86f3"
      },
      "outputs": [],
      "source": [
        "def area0fTriangle(l,b):\n",
        "    area = 0.5 * l * b\n",
        "    print(f\"Area of triangle is {area} sq.cm\")"
      ]
    },
    {
      "cell_type": "code",
      "execution_count": 24,
      "id": "3c101742",
      "metadata": {
        "id": "3c101742",
        "outputId": "351afc2b-db60-4c5c-e898-9dbd658e992c",
        "colab": {
          "base_uri": "https://localhost:8080/"
        }
      },
      "outputs": [
        {
          "output_type": "stream",
          "name": "stdout",
          "text": [
            "Area of triangle is 517.5 sq.cm\n"
          ]
        }
      ],
      "source": [
        "area0fTriangle(23,45)"
      ]
    },
    {
      "cell_type": "code",
      "execution_count": 25,
      "id": "3e639bb4",
      "metadata": {
        "id": "3e639bb4",
        "outputId": "e16e6fa9-2413-409c-80ad-80c180874313",
        "colab": {
          "base_uri": "https://localhost:8080/"
        }
      },
      "outputs": [
        {
          "output_type": "stream",
          "name": "stdout",
          "text": [
            "Area of triangle is 5.0 sq.cm\n"
          ]
        }
      ],
      "source": [
        "area0fTriangle(2,5)"
      ]
    },
    {
      "cell_type": "code",
      "execution_count": 26,
      "id": "dac3cac4",
      "metadata": {
        "id": "dac3cac4"
      },
      "outputs": [],
      "source": [
        "def taxCalculator(income):    \n",
        "    tax_amount = 0    \n",
        "    if income >=1000000:        \n",
        "        tax_amount = income * .20        \n",
        "    elif income >=500000:        \n",
        "        tax_amount = income * .10\n",
        "    elif income >=250000:        \n",
        "        tax_amount = income * .05\n",
        "    else:\n",
        "        tax_amount = income  * 0        \n",
        "    return tax_amount\n"
      ]
    },
    {
      "cell_type": "code",
      "execution_count": 27,
      "id": "95307b08",
      "metadata": {
        "id": "95307b08",
        "outputId": "09b2eec3-ea17-4852-9bac-3801269fc984",
        "colab": {
          "base_uri": "https://localhost:8080/"
        }
      },
      "outputs": [
        {
          "output_type": "execute_result",
          "data": {
            "text/plain": [
              "400000.0"
            ]
          },
          "metadata": {},
          "execution_count": 27
        }
      ],
      "source": [
        "taxCalculator(2000000)"
      ]
    },
    {
      "cell_type": "code",
      "execution_count": 28,
      "id": "3eb24531",
      "metadata": {
        "id": "3eb24531",
        "outputId": "b0958f8d-4826-494f-f199-46e8fd3d23d2",
        "colab": {
          "base_uri": "https://localhost:8080/"
        }
      },
      "outputs": [
        {
          "output_type": "execute_result",
          "data": {
            "text/plain": [
              "200000.0"
            ]
          },
          "metadata": {},
          "execution_count": 28
        }
      ],
      "source": [
        "taxCalculator(1000000)"
      ]
    },
    {
      "cell_type": "code",
      "execution_count": 29,
      "id": "dfe5fd4f",
      "metadata": {
        "id": "dfe5fd4f",
        "outputId": "2fd0efc1-c3dc-44a9-edb9-bf43a0251773",
        "colab": {
          "base_uri": "https://localhost:8080/"
        }
      },
      "outputs": [
        {
          "output_type": "execute_result",
          "data": {
            "text/plain": [
              "60000.0"
            ]
          },
          "metadata": {},
          "execution_count": 29
        }
      ],
      "source": [
        "taxCalculator(600000)"
      ]
    },
    {
      "cell_type": "code",
      "execution_count": 30,
      "id": "0e0e7792",
      "metadata": {
        "id": "0e0e7792"
      },
      "outputs": [],
      "source": [
        "def grossSalary(salary,tax):\n",
        "    gross = salary - tax\n",
        "    print(f\"Gross salary is {gross}\")      "
      ]
    },
    {
      "cell_type": "code",
      "execution_count": 31,
      "id": "9bb5b708",
      "metadata": {
        "id": "9bb5b708",
        "outputId": "282caa71-7d15-4454-dfac-32a46c28de8a",
        "colab": {
          "base_uri": "https://localhost:8080/"
        }
      },
      "outputs": [
        {
          "output_type": "stream",
          "name": "stdout",
          "text": [
            "Gross salary is 630000.0\n"
          ]
        }
      ],
      "source": [
        "grossSalary(700000,taxCalculator(700000))#None"
      ]
    },
    {
      "cell_type": "code",
      "execution_count": 32,
      "id": "5d1e20ed",
      "metadata": {
        "id": "5d1e20ed"
      },
      "outputs": [],
      "source": [
        "def abc():\n",
        "    print(\"iam abc\")\n",
        "    a  = 1000\n",
        "    print(a)"
      ]
    },
    {
      "cell_type": "markdown",
      "id": "e160ceed",
      "metadata": {
        "id": "e160ceed"
      },
      "source": [
        "### Local Variables and Global Variables\n",
        " - Local Variables: All the vairables defined inside a function body are local \n",
        "   and CAN Not be accessed out side the function\n",
        " - Global Variables: All the vairables defined outside a function body are gloabl and CAN be accessed outside as well as inside the function body"
      ]
    },
    {
      "cell_type": "code",
      "execution_count": 33,
      "id": "7888b5af",
      "metadata": {
        "id": "7888b5af",
        "outputId": "4c6c72ea-f189-4911-e87e-ee35193f9375",
        "colab": {
          "base_uri": "https://localhost:8080/"
        }
      },
      "outputs": [
        {
          "output_type": "stream",
          "name": "stdout",
          "text": [
            "iam abc\n",
            "1000\n"
          ]
        }
      ],
      "source": [
        "abc()"
      ]
    },
    {
      "cell_type": "code",
      "execution_count": 34,
      "id": "27c86441",
      "metadata": {
        "id": "27c86441",
        "outputId": "268a9dd4-e3df-4672-dc7b-02e6593db2ef",
        "colab": {
          "base_uri": "https://localhost:8080/",
          "height": 165
        }
      },
      "outputs": [
        {
          "output_type": "error",
          "ename": "NameError",
          "evalue": "ignored",
          "traceback": [
            "\u001b[0;31m---------------------------------------------------------------------------\u001b[0m",
            "\u001b[0;31mNameError\u001b[0m                                 Traceback (most recent call last)",
            "\u001b[0;32m<ipython-input-34-bca0e2660b9f>\u001b[0m in \u001b[0;36m<module>\u001b[0;34m\u001b[0m\n\u001b[0;32m----> 1\u001b[0;31m \u001b[0mprint\u001b[0m\u001b[0;34m(\u001b[0m\u001b[0ma\u001b[0m\u001b[0;34m)\u001b[0m\u001b[0;34m\u001b[0m\u001b[0;34m\u001b[0m\u001b[0m\n\u001b[0m",
            "\u001b[0;31mNameError\u001b[0m: name 'a' is not defined"
          ]
        }
      ],
      "source": [
        "print(a)"
      ]
    },
    {
      "cell_type": "code",
      "execution_count": 35,
      "id": "50c08df4",
      "metadata": {
        "id": "50c08df4"
      },
      "outputs": [],
      "source": [
        "globalvariable = \"im global\"\n",
        "def abc():\n",
        "    print(\"iam abc\")\n",
        "    print(globalvariable)\n",
        "    a  = 1000   # local variable\n",
        "    print(a) # local vairable accessed inside the function body\n",
        "    return \"I m a returned value\""
      ]
    },
    {
      "cell_type": "code",
      "execution_count": 36,
      "id": "129cd0cb",
      "metadata": {
        "id": "129cd0cb",
        "outputId": "fea9d090-a8e4-4fac-9c01-6051c1d2c686",
        "colab": {
          "base_uri": "https://localhost:8080/",
          "height": 87
        }
      },
      "outputs": [
        {
          "output_type": "stream",
          "name": "stdout",
          "text": [
            "iam abc\n",
            "im global\n",
            "1000\n"
          ]
        },
        {
          "output_type": "execute_result",
          "data": {
            "text/plain": [
              "'I m a returned value'"
            ],
            "application/vnd.google.colaboratory.intrinsic+json": {
              "type": "string"
            }
          },
          "metadata": {},
          "execution_count": 36
        }
      ],
      "source": [
        "abc()"
      ]
    },
    {
      "cell_type": "code",
      "execution_count": 37,
      "id": "64c9d193",
      "metadata": {
        "id": "64c9d193",
        "outputId": "0eb64a19-89c6-4f92-e947-28cdc7da081f",
        "colab": {
          "base_uri": "https://localhost:8080/",
          "height": 165
        }
      },
      "outputs": [
        {
          "output_type": "error",
          "ename": "NameError",
          "evalue": "ignored",
          "traceback": [
            "\u001b[0;31m---------------------------------------------------------------------------\u001b[0m",
            "\u001b[0;31mNameError\u001b[0m                                 Traceback (most recent call last)",
            "\u001b[0;32m<ipython-input-37-ec9a697eb6f2>\u001b[0m in \u001b[0;36m<module>\u001b[0;34m\u001b[0m\n\u001b[0;32m----> 1\u001b[0;31m \u001b[0mprint\u001b[0m\u001b[0;34m(\u001b[0m\u001b[0ma\u001b[0m\u001b[0;34m)\u001b[0m \u001b[0;31m# local vairable accessed out side the function body>> error\u001b[0m\u001b[0;34m\u001b[0m\u001b[0;34m\u001b[0m\u001b[0m\n\u001b[0m",
            "\u001b[0;31mNameError\u001b[0m: name 'a' is not defined"
          ]
        }
      ],
      "source": [
        "print(a) # local vairable accessed out side the function body>> error"
      ]
    },
    {
      "cell_type": "code",
      "execution_count": 38,
      "id": "477606f3",
      "metadata": {
        "id": "477606f3",
        "outputId": "c884613b-b981-4551-a008-5252f6c93cbc",
        "colab": {
          "base_uri": "https://localhost:8080/"
        }
      },
      "outputs": [
        {
          "output_type": "stream",
          "name": "stdout",
          "text": [
            "im global\n"
          ]
        }
      ],
      "source": [
        "print(globalvariable)"
      ]
    },
    {
      "cell_type": "code",
      "execution_count": 39,
      "id": "fe8a6a22",
      "metadata": {
        "id": "fe8a6a22",
        "outputId": "55686f17-6e10-4ab8-81f5-d0e74fb009ac",
        "colab": {
          "base_uri": "https://localhost:8080/"
        }
      },
      "outputs": [
        {
          "output_type": "stream",
          "name": "stdout",
          "text": [
            "iam abc\n",
            "im global\n",
            "1000\n",
            "I m a returned value\n"
          ]
        }
      ],
      "source": [
        "print(abc())"
      ]
    },
    {
      "cell_type": "code",
      "execution_count": 40,
      "id": "50d5da83",
      "metadata": {
        "id": "50d5da83"
      },
      "outputs": [],
      "source": [
        "h = 10"
      ]
    },
    {
      "cell_type": "code",
      "execution_count": 41,
      "id": "2fb9dbe0",
      "metadata": {
        "id": "2fb9dbe0"
      },
      "outputs": [],
      "source": [
        "hh = 20\n",
        "def xyz():\n",
        "    \n",
        "    print(hh)\n",
        "    h +=1\n",
        "    print(h)"
      ]
    },
    {
      "cell_type": "code",
      "execution_count": 42,
      "id": "7786b437",
      "metadata": {
        "id": "7786b437",
        "outputId": "baee5da7-3bac-4179-ff60-b360801ee576",
        "colab": {
          "base_uri": "https://localhost:8080/",
          "height": 287
        }
      },
      "outputs": [
        {
          "output_type": "stream",
          "name": "stdout",
          "text": [
            "20\n"
          ]
        },
        {
          "output_type": "error",
          "ename": "UnboundLocalError",
          "evalue": "ignored",
          "traceback": [
            "\u001b[0;31m---------------------------------------------------------------------------\u001b[0m",
            "\u001b[0;31mUnboundLocalError\u001b[0m                         Traceback (most recent call last)",
            "\u001b[0;32m<ipython-input-42-228a7b6e2e2b>\u001b[0m in \u001b[0;36m<module>\u001b[0;34m\u001b[0m\n\u001b[0;32m----> 1\u001b[0;31m \u001b[0mxyz\u001b[0m\u001b[0;34m(\u001b[0m\u001b[0;34m)\u001b[0m\u001b[0;34m\u001b[0m\u001b[0;34m\u001b[0m\u001b[0m\n\u001b[0m",
            "\u001b[0;32m<ipython-input-41-328faade97a2>\u001b[0m in \u001b[0;36mxyz\u001b[0;34m()\u001b[0m\n\u001b[1;32m      3\u001b[0m \u001b[0;34m\u001b[0m\u001b[0m\n\u001b[1;32m      4\u001b[0m     \u001b[0mprint\u001b[0m\u001b[0;34m(\u001b[0m\u001b[0mhh\u001b[0m\u001b[0;34m)\u001b[0m\u001b[0;34m\u001b[0m\u001b[0;34m\u001b[0m\u001b[0m\n\u001b[0;32m----> 5\u001b[0;31m     \u001b[0mh\u001b[0m \u001b[0;34m+=\u001b[0m\u001b[0;36m1\u001b[0m\u001b[0;34m\u001b[0m\u001b[0;34m\u001b[0m\u001b[0m\n\u001b[0m\u001b[1;32m      6\u001b[0m     \u001b[0mprint\u001b[0m\u001b[0;34m(\u001b[0m\u001b[0mh\u001b[0m\u001b[0;34m)\u001b[0m\u001b[0;34m\u001b[0m\u001b[0;34m\u001b[0m\u001b[0m\n",
            "\u001b[0;31mUnboundLocalError\u001b[0m: local variable 'h' referenced before assignment"
          ]
        }
      ],
      "source": [
        "xyz()"
      ]
    },
    {
      "cell_type": "code",
      "execution_count": 43,
      "id": "1154cfd0",
      "metadata": {
        "id": "1154cfd0",
        "outputId": "24ee263d-3836-4540-9f7b-588bd40f853a",
        "colab": {
          "base_uri": "https://localhost:8080/"
        }
      },
      "outputs": [
        {
          "output_type": "stream",
          "name": "stdout",
          "text": [
            "10\n"
          ]
        }
      ],
      "source": [
        "print(h)"
      ]
    },
    {
      "cell_type": "code",
      "execution_count": 44,
      "id": "cdf0cf7b",
      "metadata": {
        "id": "cdf0cf7b"
      },
      "outputs": [],
      "source": [
        "def add(num1,num2):\n",
        "    return num1+num2\n",
        "    print(\"I am after return\")"
      ]
    },
    {
      "cell_type": "code",
      "execution_count": 45,
      "id": "e66c87cf",
      "metadata": {
        "id": "e66c87cf"
      },
      "outputs": [],
      "source": [
        "res = add(2,3)"
      ]
    },
    {
      "cell_type": "code",
      "execution_count": 46,
      "id": "628b543b",
      "metadata": {
        "id": "628b543b",
        "outputId": "3e0df934-5c48-4c50-c40d-a2bcb977d7e6",
        "colab": {
          "base_uri": "https://localhost:8080/"
        }
      },
      "outputs": [
        {
          "output_type": "execute_result",
          "data": {
            "text/plain": [
              "5"
            ]
          },
          "metadata": {},
          "execution_count": 46
        }
      ],
      "source": [
        "res"
      ]
    },
    {
      "cell_type": "code",
      "execution_count": 47,
      "id": "2ced905e",
      "metadata": {
        "id": "2ced905e",
        "outputId": "0415e0d1-d19d-4e75-ce67-c393e8d9a124",
        "colab": {
          "base_uri": "https://localhost:8080/"
        }
      },
      "outputs": [
        {
          "output_type": "stream",
          "name": "stdout",
          "text": [
            " this is returned 5\n"
          ]
        }
      ],
      "source": [
        "print(f\" this is returned {add(2,3)}\")"
      ]
    },
    {
      "cell_type": "code",
      "execution_count": 48,
      "id": "a66def60",
      "metadata": {
        "id": "a66def60",
        "outputId": "796a7b0f-b238-4dca-ed6f-7b4d05888d2c",
        "colab": {
          "base_uri": "https://localhost:8080/",
          "height": 252
        }
      },
      "outputs": [
        {
          "output_type": "error",
          "ename": "TypeError",
          "evalue": "ignored",
          "traceback": [
            "\u001b[0;31m---------------------------------------------------------------------------\u001b[0m",
            "\u001b[0;31mTypeError\u001b[0m                                 Traceback (most recent call last)",
            "\u001b[0;32m<ipython-input-48-3fb6244c771c>\u001b[0m in \u001b[0;36m<module>\u001b[0;34m\u001b[0m\n\u001b[0;32m----> 1\u001b[0;31m \u001b[0mprint\u001b[0m\u001b[0;34m(\u001b[0m\u001b[0;34m(\u001b[0m\u001b[0madd\u001b[0m\u001b[0;34m(\u001b[0m\u001b[0;34m[\u001b[0m\u001b[0;36m1\u001b[0m\u001b[0;34m,\u001b[0m\u001b[0;36m4\u001b[0m\u001b[0;34m,\u001b[0m\u001b[0;36m3\u001b[0m\u001b[0;34m,\u001b[0m\u001b[0;36m67\u001b[0m\u001b[0;34m,\u001b[0m\u001b[0;36m2\u001b[0m\u001b[0;34m]\u001b[0m\u001b[0;34m.\u001b[0m\u001b[0msort\u001b[0m\u001b[0;34m(\u001b[0m\u001b[0;34m)\u001b[0m\u001b[0;34m,\u001b[0m \u001b[0;36m3\u001b[0m\u001b[0;34m)\u001b[0m\u001b[0;34m)\u001b[0m\u001b[0;34m)\u001b[0m\u001b[0;34m\u001b[0m\u001b[0;34m\u001b[0m\u001b[0m\n\u001b[0m",
            "\u001b[0;32m<ipython-input-44-70434134717e>\u001b[0m in \u001b[0;36madd\u001b[0;34m(num1, num2)\u001b[0m\n\u001b[1;32m      1\u001b[0m \u001b[0;32mdef\u001b[0m \u001b[0madd\u001b[0m\u001b[0;34m(\u001b[0m\u001b[0mnum1\u001b[0m\u001b[0;34m,\u001b[0m\u001b[0mnum2\u001b[0m\u001b[0;34m)\u001b[0m\u001b[0;34m:\u001b[0m\u001b[0;34m\u001b[0m\u001b[0;34m\u001b[0m\u001b[0m\n\u001b[0;32m----> 2\u001b[0;31m     \u001b[0;32mreturn\u001b[0m \u001b[0mnum1\u001b[0m\u001b[0;34m+\u001b[0m\u001b[0mnum2\u001b[0m\u001b[0;34m\u001b[0m\u001b[0;34m\u001b[0m\u001b[0m\n\u001b[0m\u001b[1;32m      3\u001b[0m     \u001b[0mprint\u001b[0m\u001b[0;34m(\u001b[0m\u001b[0;34m\"I am after return\"\u001b[0m\u001b[0;34m)\u001b[0m\u001b[0;34m\u001b[0m\u001b[0;34m\u001b[0m\u001b[0m\n",
            "\u001b[0;31mTypeError\u001b[0m: unsupported operand type(s) for +: 'NoneType' and 'int'"
          ]
        }
      ],
      "source": [
        "print((add([1,4,3,67,2].sort(), 3)))\n"
      ]
    },
    {
      "cell_type": "code",
      "execution_count": 49,
      "id": "84132b7e",
      "metadata": {
        "id": "84132b7e"
      },
      "outputs": [],
      "source": [
        "def squareCube(num):\n",
        "    s = num**2\n",
        "    c = num**3\n",
        "    return s,c "
      ]
    },
    {
      "cell_type": "code",
      "execution_count": 50,
      "id": "a2913b29",
      "metadata": {
        "id": "a2913b29"
      },
      "outputs": [],
      "source": [
        "square, cube = squareCube(5)"
      ]
    },
    {
      "cell_type": "code",
      "execution_count": 51,
      "id": "ff790183",
      "metadata": {
        "id": "ff790183",
        "outputId": "a330b53b-b739-4bb7-f013-83a47657753f",
        "colab": {
          "base_uri": "https://localhost:8080/"
        }
      },
      "outputs": [
        {
          "output_type": "execute_result",
          "data": {
            "text/plain": [
              "25"
            ]
          },
          "metadata": {},
          "execution_count": 51
        }
      ],
      "source": [
        "square"
      ]
    },
    {
      "cell_type": "code",
      "execution_count": 52,
      "id": "7258678a",
      "metadata": {
        "id": "7258678a",
        "outputId": "79cbac25-96e9-44ab-aa75-6d9b1408bb69",
        "colab": {
          "base_uri": "https://localhost:8080/"
        }
      },
      "outputs": [
        {
          "output_type": "execute_result",
          "data": {
            "text/plain": [
              "125"
            ]
          },
          "metadata": {},
          "execution_count": 52
        }
      ],
      "source": [
        "cube"
      ]
    },
    {
      "cell_type": "code",
      "execution_count": 53,
      "id": "2015e0cf",
      "metadata": {
        "id": "2015e0cf"
      },
      "outputs": [],
      "source": [
        "a=(100,200) #packing"
      ]
    },
    {
      "cell_type": "code",
      "execution_count": 53,
      "id": "61b5904e",
      "metadata": {
        "id": "61b5904e"
      },
      "outputs": [],
      "source": []
    },
    {
      "cell_type": "code",
      "execution_count": 54,
      "id": "d32bc42d",
      "metadata": {
        "id": "d32bc42d"
      },
      "outputs": [],
      "source": [
        "me,you = a"
      ]
    },
    {
      "cell_type": "code",
      "execution_count": 55,
      "id": "bb676dd4",
      "metadata": {
        "id": "bb676dd4",
        "outputId": "7a78b9a2-3eaa-46e3-ddcb-3f209b4101cc",
        "colab": {
          "base_uri": "https://localhost:8080/"
        }
      },
      "outputs": [
        {
          "output_type": "execute_result",
          "data": {
            "text/plain": [
              "100"
            ]
          },
          "metadata": {},
          "execution_count": 55
        }
      ],
      "source": [
        "me "
      ]
    },
    {
      "cell_type": "code",
      "execution_count": 56,
      "id": "803aaa6d",
      "metadata": {
        "id": "803aaa6d",
        "outputId": "d51e1f88-ccd5-4852-8746-8621b9efdd5c",
        "colab": {
          "base_uri": "https://localhost:8080/"
        }
      },
      "outputs": [
        {
          "output_type": "execute_result",
          "data": {
            "text/plain": [
              "200"
            ]
          },
          "metadata": {},
          "execution_count": 56
        }
      ],
      "source": [
        "you"
      ]
    },
    {
      "cell_type": "markdown",
      "id": "e50efdd8",
      "metadata": {
        "id": "e50efdd8"
      },
      "source": [
        "# Default Values"
      ]
    },
    {
      "cell_type": "code",
      "execution_count": 57,
      "id": "698323e0",
      "metadata": {
        "id": "698323e0",
        "outputId": "29f478a4-dccc-4565-a693-0237e30b8978",
        "colab": {
          "base_uri": "https://localhost:8080/"
        }
      },
      "outputs": [
        {
          "output_type": "stream",
          "name": "stdout",
          "text": [
            "Nasir\n"
          ]
        }
      ],
      "source": [
        "print(\"Nasir\")"
      ]
    },
    {
      "cell_type": "code",
      "execution_count": 58,
      "id": "4e274fcb",
      "metadata": {
        "id": "4e274fcb"
      },
      "outputs": [],
      "source": [
        "def salaryCalc(basic,bonus=0,commission=500):#default values must be last para\n",
        "    \"\"\"Hello i am a salary calc \"\"\"\n",
        "    total =  basic + commission\n",
        "    return total\n",
        "    "
      ]
    },
    {
      "cell_type": "code",
      "execution_count": 59,
      "id": "36299685",
      "metadata": {
        "id": "36299685",
        "outputId": "3838e222-f8c0-4091-b5d1-f39d058996d5",
        "colab": {
          "base_uri": "https://localhost:8080/"
        }
      },
      "outputs": [
        {
          "output_type": "execute_result",
          "data": {
            "text/plain": [
              "10500"
            ]
          },
          "metadata": {},
          "execution_count": 59
        }
      ],
      "source": [
        "salaryCalc(10000, 2000)\n"
      ]
    },
    {
      "cell_type": "code",
      "execution_count": 60,
      "id": "fecb2f67",
      "metadata": {
        "id": "fecb2f67",
        "outputId": "7d549f7a-2890-4ea5-d054-de95b07b5545",
        "colab": {
          "base_uri": "https://localhost:8080/"
        }
      },
      "outputs": [
        {
          "output_type": "execute_result",
          "data": {
            "text/plain": [
              "1500"
            ]
          },
          "metadata": {},
          "execution_count": 60
        }
      ],
      "source": [
        "salaryCalc(1000)"
      ]
    },
    {
      "cell_type": "code",
      "execution_count": 61,
      "id": "90715faa",
      "metadata": {
        "id": "90715faa"
      },
      "outputs": [],
      "source": [
        "def build_person(first_name, last_name):\n",
        "    person = {'first': first_name, 'last': last_name}\n",
        "    return person\n"
      ]
    },
    {
      "cell_type": "code",
      "execution_count": 62,
      "id": "0348b09a",
      "metadata": {
        "id": "0348b09a",
        "outputId": "97a2b1a5-af17-47dc-cf65-9bba3fbf0883",
        "colab": {
          "base_uri": "https://localhost:8080/"
        }
      },
      "outputs": [
        {
          "output_type": "stream",
          "name": "stdout",
          "text": [
            "{'first': 'jimi', 'last': 'hendrix'}\n"
          ]
        }
      ],
      "source": [
        "musician = build_person('jimi', 'hendrix')\n",
        "print(musician)"
      ]
    },
    {
      "cell_type": "code",
      "execution_count": 63,
      "id": "095f213d",
      "metadata": {
        "id": "095f213d"
      },
      "outputs": [],
      "source": [
        "def build_person(first_name, last_name, age=''):\n",
        "\n",
        "    person = {'first': first_name, 'last': last_name}\n",
        "    if age:\n",
        "        person['age'] = age\n",
        "    return person\n",
        "    "
      ]
    },
    {
      "cell_type": "code",
      "execution_count": 64,
      "id": "93c3295a",
      "metadata": {
        "id": "93c3295a",
        "outputId": "22507567-ac29-47d5-f8da-4be70e2e205b",
        "colab": {
          "base_uri": "https://localhost:8080/"
        }
      },
      "outputs": [
        {
          "output_type": "stream",
          "name": "stdout",
          "text": [
            "{'first': 'jimi', 'last': 'hendrix', 'age': 27}\n"
          ]
        }
      ],
      "source": [
        "musician = build_person('jimi', 'hendrix', age=27)\n",
        "print(musician)"
      ]
    },
    {
      "cell_type": "code",
      "execution_count": 65,
      "id": "6988b335",
      "metadata": {
        "id": "6988b335",
        "outputId": "6d1ec040-9c51-4f21-e70d-375155d01da8",
        "colab": {
          "base_uri": "https://localhost:8080/"
        }
      },
      "outputs": [
        {
          "output_type": "stream",
          "name": "stdout",
          "text": [
            "{'first': 'jimi', 'last': 'hendrix'}\n"
          ]
        }
      ],
      "source": [
        "musician = build_person('jimi', 'hendrix')\n",
        "print(musician)"
      ]
    },
    {
      "cell_type": "code",
      "execution_count": 66,
      "id": "0ca96bbc",
      "metadata": {
        "id": "0ca96bbc"
      },
      "outputs": [],
      "source": [
        "def greet_users(names):\n",
        "\n",
        "    for name in names:\n",
        "        msg = \"Hello, \" + name.title() + \"!\"\n",
        "        print(msg)\n",
        "    "
      ]
    },
    {
      "cell_type": "code",
      "execution_count": 67,
      "id": "7ea56f8f",
      "metadata": {
        "id": "7ea56f8f",
        "outputId": "32ed71cf-a492-44fb-b834-a513380fe862",
        "colab": {
          "base_uri": "https://localhost:8080/"
        }
      },
      "outputs": [
        {
          "output_type": "stream",
          "name": "stdout",
          "text": [
            "Hello, Hannah!\n",
            "Hello, Ty!\n",
            "Hello, Margot!\n"
          ]
        }
      ],
      "source": [
        "usernames = ['hannah', 'ty', 'margot']\n",
        "greet_users(usernames)"
      ]
    },
    {
      "cell_type": "code",
      "execution_count": 68,
      "id": "f3e59f7d",
      "metadata": {
        "id": "f3e59f7d",
        "outputId": "fa5df0f9-9a04-46b7-c1db-7678ae76425f",
        "colab": {
          "base_uri": "https://localhost:8080/"
        }
      },
      "outputs": [
        {
          "output_type": "stream",
          "name": "stdout",
          "text": [
            "Hello, A!\n",
            "Hello, H!\n",
            "Hello, M!\n",
            "Hello, E!\n",
            "Hello, D!\n"
          ]
        }
      ],
      "source": [
        "greet_users(\"Ahmed\")"
      ]
    },
    {
      "cell_type": "code",
      "execution_count": 69,
      "id": "c3d43282",
      "metadata": {
        "id": "c3d43282"
      },
      "outputs": [],
      "source": [
        "unprinted_designs = ['iphone case', 'robot pendant', 'dodecahedron']\n",
        "completed_models = []"
      ]
    },
    {
      "cell_type": "code",
      "execution_count": 70,
      "id": "77d89a33",
      "metadata": {
        "id": "77d89a33",
        "outputId": "f9dcdd4d-2338-4380-cc0e-1ca13c4ec22e",
        "colab": {
          "base_uri": "https://localhost:8080/"
        }
      },
      "outputs": [
        {
          "output_type": "stream",
          "name": "stdout",
          "text": [
            "Printing model: dodecahedron\n",
            "Printing model: robot pendant\n",
            "Printing model: iphone case\n",
            "\n",
            "The following models have been printed:\n",
            "dodecahedron\n",
            "robot pendant\n",
            "iphone case\n"
          ]
        }
      ],
      "source": [
        "while unprinted_designs:\n",
        "    current_design = unprinted_designs.pop()\n",
        "    \n",
        "    print(\"Printing model: \" + current_design)\n",
        "    completed_models.append(current_design)\n",
        "    \n",
        "print(\"\\nThe following models have been printed:\")\n",
        "for completed_model in completed_models:\n",
        "    print(completed_model)"
      ]
    },
    {
      "cell_type": "code",
      "execution_count": 71,
      "id": "bf537b5a",
      "metadata": {
        "id": "bf537b5a",
        "outputId": "267f4c35-475b-48a0-ca3b-50adccf4988e",
        "colab": {
          "base_uri": "https://localhost:8080/"
        }
      },
      "outputs": [
        {
          "output_type": "execute_result",
          "data": {
            "text/plain": [
              "[]"
            ]
          },
          "metadata": {},
          "execution_count": 71
        }
      ],
      "source": [
        "unprinted_designs"
      ]
    },
    {
      "cell_type": "code",
      "execution_count": 72,
      "id": "a7bd2777",
      "metadata": {
        "id": "a7bd2777"
      },
      "outputs": [],
      "source": [
        "def print_models(unprinted_designs, completed_models):\n",
        "\n",
        "    while unprinted_designs:\n",
        "        current_design = unprinted_designs.pop()\n",
        "\n",
        "        print(\"Printing model: \" + current_design)\n",
        "        completed_models.append(current_design)"
      ]
    },
    {
      "cell_type": "code",
      "execution_count": 73,
      "id": "69cc9237",
      "metadata": {
        "id": "69cc9237"
      },
      "outputs": [],
      "source": [
        "def show_completed_models(completed_models):\n",
        "    \n",
        "    print(\"\\nThe following models have been printed:\")\n",
        "    for completed_model in completed_models:\n",
        "        print(completed_model)"
      ]
    },
    {
      "cell_type": "code",
      "execution_count": 74,
      "id": "357526bc",
      "metadata": {
        "id": "357526bc"
      },
      "outputs": [],
      "source": [
        "unprinted_designs = ['iphone case', 'robot pendant', 'dodecahedron']\n",
        "completed_models = []"
      ]
    },
    {
      "cell_type": "code",
      "execution_count": 75,
      "id": "77f05e55",
      "metadata": {
        "id": "77f05e55",
        "outputId": "727b5311-a8be-496a-e822-b1ff70e7975e",
        "colab": {
          "base_uri": "https://localhost:8080/"
        }
      },
      "outputs": [
        {
          "output_type": "stream",
          "name": "stdout",
          "text": [
            "Printing model: dodecahedron\n",
            "Printing model: robot pendant\n",
            "Printing model: iphone case\n",
            "\n",
            "The following models have been printed:\n",
            "dodecahedron\n",
            "robot pendant\n",
            "iphone case\n"
          ]
        }
      ],
      "source": [
        "print_models(unprinted_designs, completed_models)\n",
        "show_completed_models(completed_models)"
      ]
    },
    {
      "cell_type": "code",
      "execution_count": 76,
      "id": "c4e48a9a",
      "metadata": {
        "id": "c4e48a9a"
      },
      "outputs": [],
      "source": [
        "print_models(unprinted_designs[:], completed_models)"
      ]
    },
    {
      "cell_type": "code",
      "execution_count": 77,
      "id": "8fdad9f1",
      "metadata": {
        "id": "8fdad9f1"
      },
      "outputs": [],
      "source": [
        "a = [1,2,3]"
      ]
    },
    {
      "cell_type": "code",
      "execution_count": 78,
      "id": "0e33bb92",
      "metadata": {
        "id": "0e33bb92"
      },
      "outputs": [],
      "source": [
        "b = a  #reference "
      ]
    },
    {
      "cell_type": "code",
      "execution_count": 79,
      "id": "76b1553e",
      "metadata": {
        "id": "76b1553e",
        "outputId": "b246b4df-7336-46b0-be93-2ae8ce048d09",
        "colab": {
          "base_uri": "https://localhost:8080/"
        }
      },
      "outputs": [
        {
          "output_type": "execute_result",
          "data": {
            "text/plain": [
              "3"
            ]
          },
          "metadata": {},
          "execution_count": 79
        }
      ],
      "source": [
        "b.pop()"
      ]
    },
    {
      "cell_type": "code",
      "execution_count": 80,
      "id": "991b0a85",
      "metadata": {
        "id": "991b0a85",
        "outputId": "55d36af2-b8f6-49d4-9ade-7da7e0649636",
        "colab": {
          "base_uri": "https://localhost:8080/"
        }
      },
      "outputs": [
        {
          "output_type": "execute_result",
          "data": {
            "text/plain": [
              "[1, 2]"
            ]
          },
          "metadata": {},
          "execution_count": 80
        }
      ],
      "source": [
        "a"
      ]
    },
    {
      "cell_type": "code",
      "execution_count": 81,
      "id": "c6ebf239",
      "metadata": {
        "id": "c6ebf239"
      },
      "outputs": [],
      "source": [
        "b = a.copy() # by value"
      ]
    },
    {
      "cell_type": "code",
      "execution_count": 82,
      "id": "c3d1278f",
      "metadata": {
        "id": "c3d1278f",
        "outputId": "1340942d-a1b9-4705-c499-d150614138a3",
        "colab": {
          "base_uri": "https://localhost:8080/"
        }
      },
      "outputs": [
        {
          "output_type": "execute_result",
          "data": {
            "text/plain": [
              "[1, 2]"
            ]
          },
          "metadata": {},
          "execution_count": 82
        }
      ],
      "source": [
        "b"
      ]
    },
    {
      "cell_type": "code",
      "execution_count": 83,
      "id": "b25967df",
      "metadata": {
        "id": "b25967df"
      },
      "outputs": [],
      "source": [
        "c = a[:] # by value"
      ]
    },
    {
      "cell_type": "code",
      "execution_count": 84,
      "id": "9588016b",
      "metadata": {
        "id": "9588016b",
        "outputId": "d1ab8783-b44b-4ea1-ebd7-f5f18dc2c2bc",
        "colab": {
          "base_uri": "https://localhost:8080/"
        }
      },
      "outputs": [
        {
          "output_type": "execute_result",
          "data": {
            "text/plain": [
              "[1, 2]"
            ]
          },
          "metadata": {},
          "execution_count": 84
        }
      ],
      "source": [
        "c"
      ]
    },
    {
      "cell_type": "markdown",
      "id": "116f4f96",
      "metadata": {
        "id": "116f4f96"
      },
      "source": [
        "#### Passing an arbitrary number of arguments"
      ]
    },
    {
      "cell_type": "code",
      "execution_count": 85,
      "id": "040c2c47",
      "metadata": {
        "id": "040c2c47"
      },
      "outputs": [],
      "source": [
        "def sumAll(num1,num2):\n",
        "    total = num1 + num "
      ]
    },
    {
      "cell_type": "code",
      "execution_count": 86,
      "id": "6b3d92f0",
      "metadata": {
        "id": "6b3d92f0",
        "outputId": "35837e5e-434b-4236-a58a-976c97666330",
        "colab": {
          "base_uri": "https://localhost:8080/",
          "height": 183
        }
      },
      "outputs": [
        {
          "output_type": "error",
          "ename": "TypeError",
          "evalue": "ignored",
          "traceback": [
            "\u001b[0;31m---------------------------------------------------------------------------\u001b[0m",
            "\u001b[0;31mTypeError\u001b[0m                                 Traceback (most recent call last)",
            "\u001b[0;32m<ipython-input-86-67aa85be34f5>\u001b[0m in \u001b[0;36m<module>\u001b[0;34m\u001b[0m\n\u001b[1;32m      1\u001b[0m \u001b[0;31m# error due to 1 less parameter\u001b[0m\u001b[0;34m\u001b[0m\u001b[0;34m\u001b[0m\u001b[0;34m\u001b[0m\u001b[0m\n\u001b[0;32m----> 2\u001b[0;31m \u001b[0msumAll\u001b[0m\u001b[0;34m(\u001b[0m\u001b[0;36m12\u001b[0m\u001b[0;34m)\u001b[0m\u001b[0;34m\u001b[0m\u001b[0;34m\u001b[0m\u001b[0m\n\u001b[0m",
            "\u001b[0;31mTypeError\u001b[0m: sumAll() missing 1 required positional argument: 'num2'"
          ]
        }
      ],
      "source": [
        "# error due to 1 less parameter\n",
        "sumAll(12)"
      ]
    },
    {
      "cell_type": "code",
      "execution_count": 87,
      "id": "9420b0c7",
      "metadata": {
        "id": "9420b0c7"
      },
      "outputs": [],
      "source": [
        "def sumAll(num1=0,num2=0):\n",
        "    return num1 + num2 "
      ]
    },
    {
      "cell_type": "code",
      "execution_count": 88,
      "id": "a8d3e6ed",
      "metadata": {
        "id": "a8d3e6ed",
        "outputId": "263d2023-b8c3-47fc-abd4-22629f2cf48f",
        "colab": {
          "base_uri": "https://localhost:8080/"
        }
      },
      "outputs": [
        {
          "output_type": "execute_result",
          "data": {
            "text/plain": [
              "14"
            ]
          },
          "metadata": {},
          "execution_count": 88
        }
      ],
      "source": [
        "sumAll(12,2)"
      ]
    },
    {
      "cell_type": "code",
      "execution_count": 89,
      "id": "0791249b",
      "metadata": {
        "id": "0791249b",
        "outputId": "e9fef05a-7d1a-486d-cc3e-58ca8f97d371",
        "colab": {
          "base_uri": "https://localhost:8080/"
        }
      },
      "outputs": [
        {
          "output_type": "execute_result",
          "data": {
            "text/plain": [
              "12"
            ]
          },
          "metadata": {},
          "execution_count": 89
        }
      ],
      "source": [
        "sumAll(12)"
      ]
    },
    {
      "cell_type": "code",
      "execution_count": 90,
      "id": "de16684c",
      "metadata": {
        "id": "de16684c",
        "outputId": "8c6f3f63-09a2-4bff-8909-3897c93a4479",
        "colab": {
          "base_uri": "https://localhost:8080/"
        }
      },
      "outputs": [
        {
          "output_type": "execute_result",
          "data": {
            "text/plain": [
              "0"
            ]
          },
          "metadata": {},
          "execution_count": 90
        }
      ],
      "source": [
        "sumAll()"
      ]
    },
    {
      "cell_type": "code",
      "execution_count": 91,
      "id": "82c9ffd5",
      "metadata": {
        "id": "82c9ffd5",
        "outputId": "d4f0bc7d-eb55-4358-d58a-dd45fe9f5c22",
        "colab": {
          "base_uri": "https://localhost:8080/",
          "height": 165
        }
      },
      "outputs": [
        {
          "output_type": "error",
          "ename": "TypeError",
          "evalue": "ignored",
          "traceback": [
            "\u001b[0;31m---------------------------------------------------------------------------\u001b[0m",
            "\u001b[0;31mTypeError\u001b[0m                                 Traceback (most recent call last)",
            "\u001b[0;32m<ipython-input-91-a3aa4cc3e5e8>\u001b[0m in \u001b[0;36m<module>\u001b[0;34m\u001b[0m\n\u001b[0;32m----> 1\u001b[0;31m \u001b[0msumAll\u001b[0m\u001b[0;34m(\u001b[0m\u001b[0;36m12\u001b[0m\u001b[0;34m,\u001b[0m\u001b[0;36m23\u001b[0m\u001b[0;34m,\u001b[0m\u001b[0;36m34\u001b[0m\u001b[0;34m)\u001b[0m\u001b[0;34m\u001b[0m\u001b[0;34m\u001b[0m\u001b[0m\n\u001b[0m",
            "\u001b[0;31mTypeError\u001b[0m: sumAll() takes from 0 to 2 positional arguments but 3 were given"
          ]
        }
      ],
      "source": [
        "sumAll(12,23,34)"
      ]
    },
    {
      "cell_type": "code",
      "execution_count": 92,
      "id": "4f213ada",
      "metadata": {
        "id": "4f213ada"
      },
      "outputs": [],
      "source": [
        "def make_pizza(*toppings): # *topping is such type of parameter that can hold anynumber of values supplied to it.\n",
        "    print(toppings)\n",
        "    "
      ]
    },
    {
      "cell_type": "code",
      "execution_count": 93,
      "id": "124e18b1",
      "metadata": {
        "id": "124e18b1",
        "outputId": "28da75d8-1f23-4a36-d36e-ad34c3af1cf3",
        "colab": {
          "base_uri": "https://localhost:8080/"
        }
      },
      "outputs": [
        {
          "output_type": "stream",
          "name": "stdout",
          "text": [
            "('pepperoni',)\n"
          ]
        }
      ],
      "source": [
        "make_pizza('pepperoni')"
      ]
    },
    {
      "cell_type": "code",
      "execution_count": 94,
      "id": "660b3f1a",
      "metadata": {
        "id": "660b3f1a",
        "outputId": "3b5404a7-33c7-460b-98e2-c06278132f46",
        "colab": {
          "base_uri": "https://localhost:8080/"
        }
      },
      "outputs": [
        {
          "output_type": "stream",
          "name": "stdout",
          "text": [
            "('mushrooms', 'green peppers', 'extra cheese')\n"
          ]
        }
      ],
      "source": [
        "make_pizza('mushrooms', 'green peppers', 'extra cheese')"
      ]
    },
    {
      "cell_type": "code",
      "execution_count": 95,
      "id": "65f7e9d3",
      "metadata": {
        "id": "65f7e9d3"
      },
      "outputs": [],
      "source": [
        "def make_pizza(*toppings):\n",
        "\n",
        "    print(\"\\nMaking a pizza with the following toppings:\")\n",
        "    for topping in toppings:\n",
        "        print(\"- \" + topping)\n"
      ]
    },
    {
      "cell_type": "code",
      "execution_count": 96,
      "id": "e79460af",
      "metadata": {
        "id": "e79460af",
        "outputId": "55998926-97e6-4a37-da3c-c3b159e439ba",
        "colab": {
          "base_uri": "https://localhost:8080/"
        }
      },
      "outputs": [
        {
          "output_type": "stream",
          "name": "stdout",
          "text": [
            "\n",
            "Making a pizza with the following toppings:\n",
            "- pepperoni\n",
            "\n",
            "Making a pizza with the following toppings:\n",
            "- mushrooms\n",
            "- green peppers\n",
            "- extra cheese\n"
          ]
        }
      ],
      "source": [
        "make_pizza('pepperoni')\n",
        "make_pizza('mushrooms', 'green peppers', 'extra cheese')"
      ]
    },
    {
      "cell_type": "code",
      "execution_count": 97,
      "id": "3289371c",
      "metadata": {
        "id": "3289371c"
      },
      "outputs": [],
      "source": [
        "def make_pizza(size, *toppings):\n",
        "\n",
        "    print(\"\\nMaking a \" + str(size) + \"-inch pizza with the following toppings:\")\n",
        "    for topping in toppings:\n",
        "        print(\"- \" + topping)\n",
        "    "
      ]
    },
    {
      "cell_type": "code",
      "execution_count": 98,
      "id": "8c034e41",
      "metadata": {
        "id": "8c034e41",
        "outputId": "ff1d4f32-bd15-48c3-cfe2-ca726478b6ca",
        "colab": {
          "base_uri": "https://localhost:8080/"
        }
      },
      "outputs": [
        {
          "output_type": "stream",
          "name": "stdout",
          "text": [
            "\n",
            "Making a 16-inch pizza with the following toppings:\n",
            "- pepperoni\n",
            "\n",
            "Making a 12-inch pizza with the following toppings:\n",
            "- mushrooms\n",
            "- green peppers\n",
            "- extra cheese\n"
          ]
        }
      ],
      "source": [
        "make_pizza(16, 'pepperoni')\n",
        "make_pizza(12, 'mushrooms', 'green peppers', 'extra cheese')"
      ]
    },
    {
      "cell_type": "markdown",
      "id": "cb8cf889",
      "metadata": {
        "id": "cb8cf889"
      },
      "source": [
        "# Using Arbitrary Keyword Arguments"
      ]
    },
    {
      "cell_type": "code",
      "execution_count": 99,
      "id": "26a66a64",
      "metadata": {
        "id": "26a66a64"
      },
      "outputs": [],
      "source": [
        "def build_profile(first, last, **user_info):\n",
        "\n",
        "    profile = {}\n",
        "    profile['first_name'] = first\n",
        "    profile['last_name'] = last\n",
        "    for key, value in user_info.items():\n",
        "        profile[key] = value\n",
        "    return profile\n"
      ]
    },
    {
      "cell_type": "code",
      "execution_count": 100,
      "id": "c4b61d9b",
      "metadata": {
        "id": "c4b61d9b"
      },
      "outputs": [],
      "source": [
        "user_profile = build_profile('albert', 'einstein',location='princeton',\n",
        "field='physics',contact = \"147852\")\n"
      ]
    },
    {
      "cell_type": "code",
      "execution_count": 101,
      "id": "9b28213f",
      "metadata": {
        "id": "9b28213f",
        "outputId": "634791b4-923d-4f6c-a4d1-3e3cad97639e",
        "colab": {
          "base_uri": "https://localhost:8080/"
        }
      },
      "outputs": [
        {
          "output_type": "stream",
          "name": "stdout",
          "text": [
            "{'first_name': 'albert', 'last_name': 'einstein', 'location': 'princeton', 'field': 'physics', 'contact': '147852'}\n"
          ]
        }
      ],
      "source": [
        "print(user_profile)"
      ]
    },
    {
      "cell_type": "code",
      "execution_count": 102,
      "id": "267da0ff",
      "metadata": {
        "id": "267da0ff"
      },
      "outputs": [],
      "source": [
        "import sqlite3"
      ]
    },
    {
      "cell_type": "code",
      "execution_count": 102,
      "id": "28db384c",
      "metadata": {
        "id": "28db384c"
      },
      "outputs": [],
      "source": []
    }
  ],
  "metadata": {
    "kernelspec": {
      "display_name": "Python 3",
      "language": "python",
      "name": "python3"
    },
    "language_info": {
      "codemirror_mode": {
        "name": "ipython",
        "version": 3
      },
      "file_extension": ".py",
      "mimetype": "text/x-python",
      "name": "python",
      "nbconvert_exporter": "python",
      "pygments_lexer": "ipython3",
      "version": "3.7.4"
    },
    "colab": {
      "provenance": []
    }
  },
  "nbformat": 4,
  "nbformat_minor": 5
}